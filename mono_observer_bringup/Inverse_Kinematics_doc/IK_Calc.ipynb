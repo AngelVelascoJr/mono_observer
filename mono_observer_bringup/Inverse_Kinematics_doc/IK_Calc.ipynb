{
 "cells": [
  {
   "cell_type": "markdown",
   "metadata": {},
   "source": [
    "# Inverse Kinematics"
   ]
  },
  {
   "cell_type": "markdown",
   "metadata": {},
   "source": [
    "if you wangt to use this script, you need Sympy"
   ]
  },
  {
   "cell_type": "code",
   "execution_count": 9,
   "metadata": {},
   "outputs": [
    {
     "name": "stdout",
     "output_type": "stream",
     "text": [
      "1.9\n"
     ]
    }
   ],
   "source": [
    "import sympy \n",
    "from sympy import *\n",
    "print(sympy.__version__)"
   ]
  },
  {
   "cell_type": "code",
   "execution_count": null,
   "metadata": {},
   "outputs": [],
   "source": [
    "#Matrix test\n",
    "T_x_y = Matrix([[0, 0, 0, 0], [0, 0, 0, 0], [0, 0, 0, 0], [0, 0, 0, 1]])"
   ]
  },
  {
   "cell_type": "markdown",
   "metadata": {},
   "source": [
    "## Definicion de la matriz de transformaciones homogeneas"
   ]
  },
  {
   "cell_type": "code",
   "execution_count": 13,
   "metadata": {},
   "outputs": [
    {
     "data": {
      "text/latex": [
       "$\\displaystyle \\left[\\begin{matrix}\\cos{\\left(ai_{j} \\right)} \\cos{\\left(bi_{j} \\right)} & - \\sin{\\left(ai_{j} \\right)} \\cos{\\left(gi_{j} \\right)} + \\sin{\\left(bi_{j} \\right)} \\sin{\\left(gi_{j} \\right)} \\cos{\\left(ai_{j} \\right)} & \\sin{\\left(ai_{j} \\right)} \\sin{\\left(gi_{j} \\right)} + \\sin{\\left(bi_{j} \\right)} \\cos{\\left(ai_{j} \\right)} \\cos{\\left(gi_{j} \\right)} & x_{i j}\\\\\\sin{\\left(ai_{j} \\right)} \\cos{\\left(bi_{j} \\right)} & \\sin{\\left(ai_{j} \\right)} \\sin{\\left(bi_{j} \\right)} \\sin{\\left(gi_{j} \\right)} + \\cos{\\left(ai_{j} \\right)} \\cos{\\left(gi_{j} \\right)} & \\sin{\\left(ai_{j} \\right)} \\sin{\\left(bi_{j} \\right)} \\cos{\\left(gi_{j} \\right)} - \\sin{\\left(gi_{j} \\right)} \\cos{\\left(ai_{j} \\right)} & y_{i j}\\\\- \\sin{\\left(bi_{j} \\right)} & \\sin{\\left(gi_{j} \\right)} \\cos{\\left(bi_{j} \\right)} & \\cos{\\left(bi_{j} \\right)} \\cos{\\left(gi_{j} \\right)} & z_{i j}\\\\0 & 0 & 0 & 1\\end{matrix}\\right]$"
      ],
      "text/plain": [
       "Matrix([\n",
       "[cos(ai_j)*cos(bi_j), -sin(ai_j)*cos(gi_j) + sin(bi_j)*sin(gi_j)*cos(ai_j), sin(ai_j)*sin(gi_j) + sin(bi_j)*cos(ai_j)*cos(gi_j), x_i_j],\n",
       "[sin(ai_j)*cos(bi_j),  sin(ai_j)*sin(bi_j)*sin(gi_j) + cos(ai_j)*cos(gi_j), sin(ai_j)*sin(bi_j)*cos(gi_j) - sin(gi_j)*cos(ai_j), y_i_j],\n",
       "[         -sin(bi_j),                                  sin(gi_j)*cos(bi_j),                                 cos(bi_j)*cos(gi_j), z_i_j],\n",
       "[                  0,                                                    0,                                                   0,     1]])"
      ]
     },
     "execution_count": 13,
     "metadata": {},
     "output_type": "execute_result"
    }
   ],
   "source": [
    "ai_j, bi_j, gi_j, x_i_j, y_i_j, z_i_j = symbols('ai_j, bi_j, gi_j, x_i_j, y_i_j, z_i_j')\n",
    "\n",
    "T_i_j = Matrix(\n",
    "    [[cos(ai_j)*cos(bi_j),cos(ai_j)*sin(bi_j)*sin(gi_j)-sin(ai_j)*cos(gi_j),sin(ai_j)*sin(gi_j)+cos(ai_j)*sin(bi_j)*cos(gi_j),x_i_j]\n",
    "     ,[sin(ai_j)*cos(bi_j),cos(ai_j)*cos(gi_j)+sin(ai_j)*sin(bi_j)*sin(gi_j),sin(ai_j)*sin(bi_j)*cos(gi_j)-cos(ai_j)*sin(gi_j),y_i_j]\n",
    "     , [-sin(bi_j),cos(bi_j)*sin(gi_j),cos(bi_j)*cos(gi_j),z_i_j]\n",
    "     ,[0,0,0,1]])\n",
    "T_i_j"
   ]
  }
 ],
 "metadata": {
  "kernelspec": {
   "display_name": "usr",
   "language": "python",
   "name": "python3"
  },
  "language_info": {
   "codemirror_mode": {
    "name": "ipython",
    "version": 3
   },
   "file_extension": ".py",
   "mimetype": "text/x-python",
   "name": "python",
   "nbconvert_exporter": "python",
   "pygments_lexer": "ipython3",
   "version": "3.10.12"
  }
 },
 "nbformat": 4,
 "nbformat_minor": 4
}
