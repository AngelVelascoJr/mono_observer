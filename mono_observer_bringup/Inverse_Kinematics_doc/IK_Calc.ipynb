{
 "cells": [
  {
   "cell_type": "markdown",
   "metadata": {},
   "source": [
    "# Inverse Kinematics"
   ]
  },
  {
   "cell_type": "markdown",
   "metadata": {},
   "source": [
    "if you wangt to use this script, you need Sympy"
   ]
  },
  {
   "cell_type": "code",
   "execution_count": null,
   "metadata": {},
   "outputs": [],
   "source": [
    "import sympy \n",
    "from sympy import *\n",
    "print(sympy.__version__)"
   ]
  },
  {
   "cell_type": "code",
   "execution_count": null,
   "metadata": {},
   "outputs": [],
   "source": [
    "#Matrix test\n",
    "T_x_y = Matrix([[0, 0, 0, 0], [0, 0, 0, 0], [0, 0, 0, 0], [0, 0, 0, 1]])"
   ]
  },
  {
   "cell_type": "markdown",
   "metadata": {},
   "source": [
    "## Definicion de la matriz de transformaciones homogeneas"
   ]
  },
  {
   "cell_type": "code",
   "execution_count": null,
   "metadata": {},
   "outputs": [],
   "source": [
    "ai_j, bi_j, gi_j, x_i_j, y_i_j, z_i_j = symbols('ai_j, bi_j, gi_j, x_i_j, y_i_j, z_i_j')\n",
    "\n",
    "T_i_j = Matrix(\n",
    "    [[cos(ai_j)*cos(bi_j),cos(ai_j)*sin(bi_j)*sin(gi_j)-sin(ai_j)*cos(gi_j),sin(ai_j)*sin(gi_j)+cos(ai_j)*sin(bi_j)*cos(gi_j),x_i_j],\n",
    "     [sin(ai_j)*cos(bi_j),cos(ai_j)*cos(gi_j)+sin(ai_j)*sin(bi_j)*sin(gi_j),sin(ai_j)*sin(bi_j)*cos(gi_j)-cos(ai_j)*sin(gi_j),y_i_j],\n",
    "     [-sin(bi_j),cos(bi_j)*sin(gi_j),cos(bi_j)*cos(gi_j),z_i_j],\n",
    "     [0,0,0,1]])\n",
    "T_i_j"
   ]
  },
  {
   "cell_type": "code",
   "execution_count": null,
   "metadata": {},
   "outputs": [],
   "source": [
    "T_0_1, z_0_1, theta_0_1 = symbols(\"T_0_1, z_0_1, theta_0_1\")\n",
    "T_0_1 = Subs(T_i_j,\n",
    "            (x_i_j, y_i_j, z_i_j, gi_j, bi_j, ai_j),\n",
    "            (0, 0, z_0_1, 0, 0, theta_0_1))\n",
    "T_0_1 = T_0_1.simplify()\n",
    "T_0_1"
   ]
  },
  {
   "cell_type": "code",
   "execution_count": null,
   "metadata": {},
   "outputs": [],
   "source": [
    "T_1_2, z_1_2, theta_1_2 = symbols(\"T_2_3, z_1_2, theta_1_2\")\n",
    "T_1_2 = Subs(T_i_j,\n",
    "            (x_i_j, y_i_j, z_i_j, gi_j, bi_j, ai_j),\n",
    "            (0, 0, z_1_2, 0, theta_1_2, 0))\n",
    "T_1_2 = T_1_2.simplify()\n",
    "T_1_2"
   ]
  },
  {
   "cell_type": "code",
   "execution_count": null,
   "metadata": {},
   "outputs": [],
   "source": [
    "T_2_3, z_2_3, theta_2_3 = symbols(\"T_2_3, z_2_3, theta_2_3\")\n",
    "T_2_3 = Subs(T_i_j,\n",
    "            (x_i_j, y_i_j, z_i_j, gi_j, bi_j, ai_j),\n",
    "            (0, 0, z_2_3, 0, theta_2_3, 0))\n",
    "T_2_3 = T_2_3.simplify()\n",
    "T_2_3"
   ]
  },
  {
   "cell_type": "code",
   "execution_count": null,
   "metadata": {},
   "outputs": [],
   "source": [
    "T_3_p, L_3_p = symbols(\"T_3_p, L_3_p\")\n",
    "T_3_p = Subs(T_i_j,\n",
    "            (x_i_j, y_i_j, z_i_j, gi_j, bi_j, ai_j),\n",
    "            (0, 0, L_3_p, 0, 0, 0))\n",
    "T_3_p = T_3_p.simplify()\n",
    "T_3_p"
   ]
  },
  {
   "cell_type": "code",
   "execution_count": null,
   "metadata": {},
   "outputs": [],
   "source": [
    "T_0_p = symbols(\"T_0_p\")\n",
    "T_0_p = T_0_1*T_1_2*T_2_3*T_3_p\n",
    "T_0_p = T_0_p.trigsimp()\n",
    "T_0_p"
   ]
  },
  {
   "cell_type": "code",
   "execution_count": null,
   "metadata": {},
   "outputs": [],
   "source": [
    "#test\n",
    "Res = Subs(T_0_p,\n",
    "            (theta_0_1, theta_1_2, theta_2_3),\n",
    "            (0, pi/2, pi/2))\n",
    "Res.simplify()"
   ]
  },
  {
   "cell_type": "markdown",
   "metadata": {},
   "source": [
    "## Obtencion del vector de pose con solamente posicion"
   ]
  },
  {
   "cell_type": "markdown",
   "metadata": {},
   "source": [
    "xi_0_p = symbols('xi_0_p')\n",
    "xi_0_p = Matrix([T_0_p[0,3].trigsimp(),T_0_p[1,3].trigsimp(),T_0_p[2,3].trigsimp()])\n",
    "xi_0_p"
   ]
  },
  {
   "cell_type": "markdown",
   "metadata": {},
   "source": [
    "## obtencion del modelo cinematico directo de la postura con solo posicion\n",
    "\n",
    "${}^{O}\\dot{\\mathbf{\\xi}}_{P} = \\mathbf{J}_{\\theta}(q) \\dot{\\mathbf{q}}$\n"
   ]
  },
  {
   "cell_type": "markdown",
   "metadata": {},
   "source": [
    "J_theta = symbols(\"J_theta\")\n",
    "J_theta = xi_0_p.jacobian([theta_0_1, theta_1_2, theta_2_3])\n",
    "J_theta.simplify()\n",
    "J_theta"
   ]
  },
  {
   "cell_type": "markdown",
   "metadata": {},
   "source": [
    "## Obtencion del modelo cinematico inverso de la postura solo con posicion\n",
    "\n",
    "$\\dot{\\mathbf{q}} = \\mathbf{J}_{\\theta}(q)^{+}\\,{}^{O}\\dot{\\mathbf{\\xi}}_{P}$"
   ]
  },
  {
   "cell_type": "markdown",
   "metadata": {},
   "source": [
    "J_theta_inv = J_theta.inv()\n",
    "J_theta_inv"
   ]
  },
  {
   "cell_type": "markdown",
   "metadata": {},
   "source": [
    "q_dot = J_theta_inv*Matrix([2,5,3])\n",
    "q_dot"
   ]
  },
  {
   "cell_type": "markdown",
   "metadata": {},
   "source": [
    "## Obtencion del vector de pose"
   ]
  },
  {
   "cell_type": "code",
   "execution_count": null,
   "metadata": {},
   "outputs": [],
   "source": [
    "xi_0_p = symbols('xi_0_p')\n",
    "xi_0_p = Matrix([T_0_p[0,3].trigsimp(),T_0_p[1,3].trigsimp(),T_0_p[2,3].trigsimp(),T_0_p[0,0].trigsimp(),T_0_p[1,1].trigsimp(),T_0_p[2,2].trigsimp()])\n",
    "xi_0_p"
   ]
  },
  {
   "cell_type": "markdown",
   "metadata": {},
   "source": [
    "## obtencion del modelo cinematico directo de la postura\n",
    "\n",
    "${}^{O}\\dot{\\mathbf{\\xi}}_{P} = \\mathbf{J}_{\\theta}(q) \\dot{\\mathbf{q}}$\n"
   ]
  },
  {
   "cell_type": "code",
   "execution_count": null,
   "metadata": {},
   "outputs": [],
   "source": [
    "J_theta = symbols(\"J_theta\")\n",
    "J_theta = xi_0_p.jacobian([theta_0_1, theta_1_2, theta_2_3])\n",
    "J_theta.simplify()\n",
    "J_theta"
   ]
  },
  {
   "cell_type": "markdown",
   "metadata": {},
   "source": [
    "## Obtencion del modelo cinematico inverso de la postura\n",
    "\n",
    "### Pseudoinversa\n",
    "\n",
    "$\\dot{\\mathbf{q}} = \\mathbf{J}_{\\theta}(q)^{+}\\,{}^{O}\\dot{\\mathbf{\\xi}}_{P}$\n",
    "\n",
    "dado que no es una matriz cuadrada, procedemos con el calculo de la pseudoinversa\n",
    "\n",
    "$\\mathbf{A}⁺ = (A^tA)^{-1}A^t$"
   ]
  },
  {
   "cell_type": "markdown",
   "metadata": {},
   "source": [
    "J_theta_tr = J_theta.transpose()\n",
    "J_theta_tr.simplify()\n",
    "J_theta_tr"
   ]
  },
  {
   "cell_type": "markdown",
   "metadata": {},
   "source": [
    "J_thXJ_th_tr = (J_theta_tr*J_theta)\n",
    "J_thXJ_th_tr.simplify()\n",
    "J_thXJ_th_tr"
   ]
  },
  {
   "cell_type": "markdown",
   "metadata": {},
   "source": [
    "J_thXJ_th_tr_simp = Matrix([[J_thXJ_th_tr[0,0],J_thXJ_th_tr[0,1],J_thXJ_th_tr[0,2]],\n",
    "                            [J_thXJ_th_tr[1,0],J_thXJ_th_tr[1,1].trigsimp(),J_thXJ_th_tr[1,2].trigsimp()],\n",
    "                            [J_thXJ_th_tr[2,0],J_thXJ_th_tr[2,1].trigsimp(),J_thXJ_th_tr[2,2]]])\n",
    "J_thXJ_th_tr_simp"
   ]
  },
  {
   "cell_type": "markdown",
   "metadata": {},
   "source": [
    "J_thXJ_th_tr_inv = J_thXJ_th_tr_simp.inv()\n",
    "J_thXJ_th_tr_inv"
   ]
  },
  {
   "cell_type": "markdown",
   "metadata": {},
   "source": [
    "J_theta_inv = J_thXJ_th_tr_inv*J_theta.transpose()"
   ]
  },
  {
   "cell_type": "markdown",
   "metadata": {},
   "source": [
    "### SVD\n",
    "segun [este](https://en.wikipedia.org/wiki/Moore%E2%80%93Penrose_inverse#Using_polynomials_in_matrices) articulo es posible usar SVD (singular value descomposition) para obtener la pseudoinversa, tal que:\n",
    "\n",
    "$A=U\\Sigma V^{*} \\to A^{+}=V\\Sigma^{+}U^{*}$"
   ]
  },
  {
   "cell_type": "markdown",
   "metadata": {},
   "source": [
    "U,M,V = J_theta.singular_value_decomposition()"
   ]
  },
  {
   "cell_type": "markdown",
   "metadata": {},
   "source": [
    "J_theta_inv = V*S"
   ]
  },
  {
   "cell_type": "markdown",
   "metadata": {},
   "source": [
    "### metodo geometrico\n",
    "\n",
    "como otra opcion, es posible hacer calculos geometricos para obtener las ecuaciones de la cinematica, tomando en cuenta que el sistema se puede separar en 2 partes:\n",
    "\n",
    "Esta parte se puede analizar como un plano\n",
    "\n",
    "![Robot_up](./Images/Robot_Up.jpeg)\n",
    "\n",
    "\n",
    "Esta parte se puede analizar solamente con las componentes XY del punto P\n",
    "\n",
    "![Robot_down](./Images/Robot_Down.jpeg)\n"
   ]
  },
  {
   "cell_type": "markdown",
   "metadata": {},
   "source": [
    "Comenzamos con la parte inferior, tomando el angulo entre ambos elementos como ${}^{0}\\theta_1$"
   ]
  }
 ],
 "metadata": {
  "kernelspec": {
   "display_name": "usr",
   "language": "python",
   "name": "python3"
  },
  "language_info": {
   "codemirror_mode": {
    "name": "ipython",
    "version": 3
   },
   "file_extension": ".py",
   "mimetype": "text/x-python",
   "name": "python",
   "nbconvert_exporter": "python",
   "pygments_lexer": "ipython3",
   "version": "3.10.12"
  }
 },
 "nbformat": 4,
 "nbformat_minor": 4
}
